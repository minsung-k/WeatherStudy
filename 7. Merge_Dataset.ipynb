{
 "cells": [
  {
   "cell_type": "code",
   "execution_count": 1,
   "metadata": {},
   "outputs": [],
   "source": [
    "import pandas as pd\n",
    "import warnings\n",
    "import missingno as msno\n",
    "import numpy as np\n",
    "import os\n",
    "import matplotlib\n",
    "from scipy import stats\n",
    "from matplotlib.image import imread\n",
    "import seaborn as sns\n",
    "import matplotlib.pyplot as plt\n",
    "plt.style.use('ggplot')\n",
    "import squarify \n",
    "from matplotlib import rc\n",
    "rc('font', family = 'AppleGothic')\n",
    "plt.rcParams['axes.unicode_minus'] = False\n",
    "warnings.filterwarnings(action='ignore')\n",
    "\n",
    "os.chdir('/Users/hankiho/Desktop/기상청공모전/추출데이터')"
   ]
  },
  {
   "cell_type": "code",
   "execution_count": 2,
   "metadata": {},
   "outputs": [],
   "source": [
    "gs = pd.read_csv('gs_seoul.csv')\n",
    "la = pd.read_csv('la_seoul.csv')\n",
    "hi = pd.read_csv('hitmap.csv')"
   ]
  },
  {
   "cell_type": "code",
   "execution_count": 3,
   "metadata": {},
   "outputs": [],
   "source": [
    "gs_01 = gs[gs['reg_02.gs'] == '1분위수']\n",
    "gs_02 = gs[gs['reg_02.gs'] == '2분위수']\n",
    "gs_03 = gs[gs['reg_02.gs'] == '3분위수']\n",
    "gs_04 = gs[gs['reg_02.gs'] == '4분위수']"
   ]
  },
  {
   "cell_type": "code",
   "execution_count": 4,
   "metadata": {},
   "outputs": [
    {
     "data": {
      "text/plain": [
       "Index(['날짜', '과자', '라면', '마스크', '맥주', '면도기', '생리대', '생수', '숙취해소제', '스타킹',\n",
       "       '아이스크림', '우산', '탄산음료', '네일', '립컬러', '립케어', '마스크팩', '바디로션', '선케어', '제모제',\n",
       "       '체중조절', '크림로션', '훼이셜클렌저', '미세먼지언급량', '맛집언급량', '취미언급량', '건강언급량',\n",
       "       '데이터언급량', '지역번호', '최대기온', '최대풍속', '최소기온', '평균기온', '평균풍속', '총강수량', '일교차',\n",
       "       '미세먼지농도(㎍/㎥)'],\n",
       "      dtype='object')"
      ]
     },
     "execution_count": 4,
     "metadata": {},
     "output_type": "execute_result"
    }
   ],
   "source": [
    "hi.columns"
   ]
  },
  {
   "cell_type": "code",
   "execution_count": 5,
   "metadata": {},
   "outputs": [],
   "source": [
    "social_data = hi[['미세먼지언급량', '맛집언급량', '취미언급량', '건강언급량','데이터언급량']]"
   ]
  },
  {
   "cell_type": "code",
   "execution_count": 6,
   "metadata": {},
   "outputs": [],
   "source": [
    "weather = hi[['최대기온', '최대풍속', '최소기온','평균기온','평균풍속', '총강수량', '일교차', '미세먼지농도(㎍/㎥)']]"
   ]
  },
  {
   "cell_type": "code",
   "execution_count": 7,
   "metadata": {},
   "outputs": [],
   "source": [
    "gs_01 = gs_01.rename(columns = {'마스크': '마스크_01'})\n",
    "gs_01 = gs_01.rename(columns = {'스타킹': '스타킹_01'})\n",
    "gs_01 = gs_01.rename(columns = {'스테디셀러': '스테디셀러_01'})\n",
    "gs_01 = gs_01.rename(columns = {'일회용품': '일회용품_01'})\n",
    "gs_01 = gs_01.rename(columns = {'계절성(여름,겨울)': '계절성(여름,겨울)_01'})\n",
    "\n",
    "gs_02 = gs_02.rename(columns = {'마스크': '마스크_02'})\n",
    "gs_02 = gs_02.rename(columns = {'스타킹': '스타킹_02'})\n",
    "gs_02 = gs_02.rename(columns = {'스테디셀러': '스테디셀러_02'})\n",
    "gs_02 = gs_02.rename(columns = {'일회용품': '일회용품_02'})\n",
    "gs_02 = gs_02.rename(columns = {'계절성(여름,겨울)': '계절성(여름,겨울)_02'})\n",
    "\n",
    "gs_03 = gs_03.rename(columns = {'마스크': '마스크_03'})\n",
    "gs_03 = gs_03.rename(columns = {'스타킹': '스타킹_03'})\n",
    "gs_03 = gs_03.rename(columns = {'스테디셀러': '스테디셀러_03'})\n",
    "gs_03 = gs_03.rename(columns = {'일회용품': '일회용품_03'})\n",
    "gs_03 = gs_03.rename(columns = {'계절성(여름,겨울)': '계절성(여름,겨울)_03'})\n",
    "\n",
    "gs_04 = gs_04.rename(columns = {'마스크': '마스크_04'})\n",
    "gs_04 = gs_04.rename(columns = {'스타킹': '스타킹_04'})\n",
    "gs_04 = gs_04.rename(columns = {'스테디셀러': '스테디셀러_04'})\n",
    "gs_04 = gs_04.rename(columns = {'일회용품': '일회용품_04'})\n",
    "gs_04 = gs_04.rename(columns = {'계절성(여름,겨울)': '계절성(여름,겨울)_04'})\n",
    "\n",
    "la = la.rename(columns = {'스테디셀러': '스테디셀러_la'})\n",
    "la = la.rename(columns = {'우상향상품': '우상향상품_la'})\n",
    "la = la.rename(columns = {'계절성(가을,겨울)': '계절성(가을,겨울)_la'})\n",
    "la = la.rename(columns = {'계절성(여름)': '계절성(여름)_la'})"
   ]
  },
  {
   "cell_type": "code",
   "execution_count": 8,
   "metadata": {},
   "outputs": [],
   "source": [
    "gs_01.drop(['reg_02.gs'], axis=1, inplace=True)\n",
    "gs_02.drop(['reg_02.gs'], axis=1, inplace=True)\n",
    "gs_03.drop(['reg_02.gs'], axis=1, inplace=True)\n",
    "gs_04.drop(['reg_02.gs'], axis=1, inplace=True)"
   ]
  },
  {
   "cell_type": "code",
   "execution_count": 10,
   "metadata": {},
   "outputs": [],
   "source": [
    "# 데이터 합치기\n",
    "a = pd.merge(gs_01, gs_02, on='date.gs') \n",
    "b = pd.merge(gs_03, gs_04, on='date.gs')\n",
    "df_gs = pd.merge(a, b, on='date.gs')\n",
    "total = pd.merge(df_gs, la, on='date.gs')"
   ]
  },
  {
   "cell_type": "code",
   "execution_count": 11,
   "metadata": {},
   "outputs": [],
   "source": [
    "dt = pd.concat([total, weather], axis=1) \n",
    "dt = pd.concat([dt, social_data], axis=1) "
   ]
  },
  {
   "cell_type": "code",
   "execution_count": 12,
   "metadata": {},
   "outputs": [
    {
     "data": {
      "text/plain": [
       "Index(['date.gs', '마스크_01', '스타킹_01', '스테디셀러_01', '일회용품_01', '계절성(여름,겨울)_01',\n",
       "       '마스크_02', '스타킹_02', '스테디셀러_02', '일회용품_02', '계절성(여름,겨울)_02', '마스크_03',\n",
       "       '스타킹_03', '스테디셀러_03', '일회용품_03', '계절성(여름,겨울)_03', '마스크_04', '스타킹_04',\n",
       "       '스테디셀러_04', '일회용품_04', '계절성(여름,겨울)_04', '스테디셀러_la', '우상향상품_la',\n",
       "       '계절성(가을,겨울)_la', '계절성(여름)_la', '최대기온', '최대풍속', '최소기온', '평균기온', '평균풍속',\n",
       "       '총강수량', '일교차', '미세먼지농도(㎍/㎥)', '미세먼지언급량', '맛집언급량', '취미언급량', '건강언급량',\n",
       "       '데이터언급량'],\n",
       "      dtype='object')"
      ]
     },
     "execution_count": 12,
     "metadata": {},
     "output_type": "execute_result"
    }
   ],
   "source": [
    "dt.columns"
   ]
  },
  {
   "cell_type": "code",
   "execution_count": 13,
   "metadata": {},
   "outputs": [],
   "source": [
    "dt.to_csv('/Users/hankiho/Desktop/dt.csv', index = False, encoding = \"utf-8-sig\")"
   ]
  },
  {
   "cell_type": "code",
   "execution_count": null,
   "metadata": {},
   "outputs": [],
   "source": []
  }
 ],
 "metadata": {
  "kernelspec": {
   "display_name": "Python 3",
   "language": "python",
   "name": "python3"
  },
  "language_info": {
   "codemirror_mode": {
    "name": "ipython",
    "version": 3
   },
   "file_extension": ".py",
   "mimetype": "text/x-python",
   "name": "python",
   "nbconvert_exporter": "python",
   "pygments_lexer": "ipython3",
   "version": "3.6.8"
  }
 },
 "nbformat": 4,
 "nbformat_minor": 2
}
