{
 "cells": [
  {
   "cell_type": "code",
   "execution_count": 1,
   "metadata": {},
   "outputs": [],
   "source": [
    "import pandas as pd\n",
    "import warnings\n",
    "import missingno as msno\n",
    "import numpy as np\n",
    "import os\n",
    "import matplotlib\n",
    "from scipy import stats\n",
    "from matplotlib.image import imread\n",
    "import seaborn as sns\n",
    "import matplotlib.pyplot as plt\n",
    "plt.style.use('ggplot')\n",
    "import squarify \n",
    "from matplotlib import rc\n",
    "rc('font', family = 'AppleGothic')\n",
    "plt.rcParams['axes.unicode_minus'] = False\n",
    "warnings.filterwarnings(action='ignore')\n",
    "\n",
    "os.chdir('/Users/hankiho/Desktop/기상청공모전/추출데이터')"
   ]
  },
  {
   "cell_type": "code",
   "execution_count": 2,
   "metadata": {},
   "outputs": [],
   "source": [
    "dt = pd.read_csv('dt.csv')"
   ]
  },
  {
   "cell_type": "code",
   "execution_count": 3,
   "metadata": {},
   "outputs": [
    {
     "data": {
      "text/plain": [
       "Index(['date.gs', '마스크_01', '스타킹_01', '스테디셀러_01', '일회용품_01', '계절성(여름,겨울)_01',\n",
       "       '마스크_02', '스타킹_02', '스테디셀러_02', '일회용품_02', '계절성(여름,겨울)_02', '마스크_03',\n",
       "       '스타킹_03', '스테디셀러_03', '일회용품_03', '계절성(여름,겨울)_03', '마스크_04', '스타킹_04',\n",
       "       '스테디셀러_04', '일회용품_04', '계절성(여름,겨울)_04', '스테디셀러_la', '우상향상품_la',\n",
       "       '계절성(가을,겨울)_la', '계절성(여름)_la', '최대기온', '최대풍속', '최소기온', '평균기온', '평균풍속',\n",
       "       '총강수량', '일교차', '미세먼지농도(㎍/㎥)', '미세먼지언급량', '맛집언급량', '취미언급량', '건강언급량',\n",
       "       '데이터언급량'],\n",
       "      dtype='object')"
      ]
     },
     "execution_count": 3,
     "metadata": {},
     "output_type": "execute_result"
    }
   ],
   "source": [
    "dt.columns"
   ]
  },
  {
   "cell_type": "code",
   "execution_count": 4,
   "metadata": {},
   "outputs": [],
   "source": [
    "name = ['date',\n",
    "        'mask_01','stacking_01','steady seller_01','disposable_01','season(S/W)_01',\n",
    "        'mask_02','stacking_02','steady seller_02','disposable_02','season(S/W)_02',\n",
    "        'mask_03','stacking_03','steady seller_03','disposable_03','season(S/W)_03',\n",
    "        'mask_04','stacking_04','steady seller_04','disposable_04','season(S/W)_04',\n",
    "        'la_steady_seller','la_upwards_pd','la_season(A/W)','la_season(S)',\n",
    "        'temp_max','wind_max','temp_min','temp_avg','wind_avg','rain_sum','temp_range','dust_avg',\n",
    "        'am_dust','am_restuarent','am_hobby','am_health','am_date']"
   ]
  },
  {
   "cell_type": "code",
   "execution_count": 5,
   "metadata": {},
   "outputs": [],
   "source": [
    "len_ = len(name)\n",
    "for i in range(len_):\n",
    "        dt.rename(columns = {dt.columns[i] : name[i]},inplace = True )"
   ]
  },
  {
   "cell_type": "code",
   "execution_count": 6,
   "metadata": {},
   "outputs": [
    {
     "data": {
      "text/plain": [
       "Index(['date', 'mask_01', 'stacking_01', 'steady seller_01', 'disposable_01',\n",
       "       'season(S/W)_01', 'mask_02', 'stacking_02', 'steady seller_02',\n",
       "       'disposable_02', 'season(S/W)_02', 'mask_03', 'stacking_03',\n",
       "       'steady seller_03', 'disposable_03', 'season(S/W)_03', 'mask_04',\n",
       "       'stacking_04', 'steady seller_04', 'disposable_04', 'season(S/W)_04',\n",
       "       'la_steady_seller', 'la_upwards_pd', 'la_season(A/W)', 'la_season(S)',\n",
       "       'temp_max', 'wind_max', 'temp_min', 'temp_avg', 'wind_avg', 'rain_sum',\n",
       "       'temp_range', 'dust_avg', 'am_dust', 'am_restuarent', 'am_hobby',\n",
       "       'am_health', 'am_date'],\n",
       "      dtype='object')"
      ]
     },
     "execution_count": 6,
     "metadata": {},
     "output_type": "execute_result"
    }
   ],
   "source": [
    "dt.columns"
   ]
  },
  {
   "cell_type": "code",
   "execution_count": 8,
   "metadata": {},
   "outputs": [],
   "source": [
    "dt.to_csv('/Users/hankiho/Desktop/predict_dt.csv', index = False, encoding = \"utf-8-sig\")"
   ]
  },
  {
   "cell_type": "code",
   "execution_count": null,
   "metadata": {},
   "outputs": [],
   "source": []
  }
 ],
 "metadata": {
  "kernelspec": {
   "display_name": "Python 3",
   "language": "python",
   "name": "python3"
  },
  "language_info": {
   "codemirror_mode": {
    "name": "ipython",
    "version": 3
   },
   "file_extension": ".py",
   "mimetype": "text/x-python",
   "name": "python",
   "nbconvert_exporter": "python",
   "pygments_lexer": "ipython3",
   "version": "3.6.8"
  }
 },
 "nbformat": 4,
 "nbformat_minor": 2
}
